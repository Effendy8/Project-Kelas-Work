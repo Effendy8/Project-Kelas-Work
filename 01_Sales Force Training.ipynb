{
 "cells": [
  {
   "cell_type": "markdown",
   "id": "31d0ffb0-6ae2-43b6-924b-c3b0210fa75c",
   "metadata": {},
   "source": [
    "### Membuat DataFrame"
   ]
  },
  {
   "cell_type": "code",
   "execution_count": 1,
   "id": "180274c2-7774-46f1-aaa1-022f3527747f",
   "metadata": {},
   "outputs": [],
   "source": [
    "import pandas as pd\n",
    "import numpy as np"
   ]
  },
  {
   "cell_type": "code",
   "execution_count": 3,
   "id": "d5006a75-5905-45f3-962a-f40071dd0f64",
   "metadata": {},
   "outputs": [
    {
     "data": {
      "text/html": [
       "<div>\n",
       "<style scoped>\n",
       "    .dataframe tbody tr th:only-of-type {\n",
       "        vertical-align: middle;\n",
       "    }\n",
       "\n",
       "    .dataframe tbody tr th {\n",
       "        vertical-align: top;\n",
       "    }\n",
       "\n",
       "    .dataframe thead th {\n",
       "        text-align: right;\n",
       "    }\n",
       "</style>\n",
       "<table border=\"1\" class=\"dataframe\">\n",
       "  <thead>\n",
       "    <tr style=\"text-align: right;\">\n",
       "      <th></th>\n",
       "      <th>Transaction_Amount</th>\n",
       "    </tr>\n",
       "  </thead>\n",
       "  <tbody>\n",
       "    <tr>\n",
       "      <th>0</th>\n",
       "      <td>100</td>\n",
       "    </tr>\n",
       "    <tr>\n",
       "      <th>1</th>\n",
       "      <td>150</td>\n",
       "    </tr>\n",
       "    <tr>\n",
       "      <th>2</th>\n",
       "      <td>50</td>\n",
       "    </tr>\n",
       "    <tr>\n",
       "      <th>3</th>\n",
       "      <td>100</td>\n",
       "    </tr>\n",
       "    <tr>\n",
       "      <th>4</th>\n",
       "      <td>130</td>\n",
       "    </tr>\n",
       "    <tr>\n",
       "      <th>5</th>\n",
       "      <td>120</td>\n",
       "    </tr>\n",
       "    <tr>\n",
       "      <th>6</th>\n",
       "      <td>100</td>\n",
       "    </tr>\n",
       "    <tr>\n",
       "      <th>7</th>\n",
       "      <td>85</td>\n",
       "    </tr>\n",
       "    <tr>\n",
       "      <th>8</th>\n",
       "      <td>70</td>\n",
       "    </tr>\n",
       "    <tr>\n",
       "      <th>9</th>\n",
       "      <td>150</td>\n",
       "    </tr>\n",
       "    <tr>\n",
       "      <th>10</th>\n",
       "      <td>150</td>\n",
       "    </tr>\n",
       "    <tr>\n",
       "      <th>11</th>\n",
       "      <td>120</td>\n",
       "    </tr>\n",
       "    <tr>\n",
       "      <th>12</th>\n",
       "      <td>50</td>\n",
       "    </tr>\n",
       "    <tr>\n",
       "      <th>13</th>\n",
       "      <td>100</td>\n",
       "    </tr>\n",
       "    <tr>\n",
       "      <th>14</th>\n",
       "      <td>100</td>\n",
       "    </tr>\n",
       "    <tr>\n",
       "      <th>15</th>\n",
       "      <td>140</td>\n",
       "    </tr>\n",
       "    <tr>\n",
       "      <th>16</th>\n",
       "      <td>90</td>\n",
       "    </tr>\n",
       "    <tr>\n",
       "      <th>17</th>\n",
       "      <td>150</td>\n",
       "    </tr>\n",
       "    <tr>\n",
       "      <th>18</th>\n",
       "      <td>50</td>\n",
       "    </tr>\n",
       "    <tr>\n",
       "      <th>19</th>\n",
       "      <td>90</td>\n",
       "    </tr>\n",
       "    <tr>\n",
       "      <th>20</th>\n",
       "      <td>120</td>\n",
       "    </tr>\n",
       "    <tr>\n",
       "      <th>21</th>\n",
       "      <td>100</td>\n",
       "    </tr>\n",
       "    <tr>\n",
       "      <th>22</th>\n",
       "      <td>110</td>\n",
       "    </tr>\n",
       "    <tr>\n",
       "      <th>23</th>\n",
       "      <td>75</td>\n",
       "    </tr>\n",
       "    <tr>\n",
       "      <th>24</th>\n",
       "      <td>65</td>\n",
       "    </tr>\n",
       "  </tbody>\n",
       "</table>\n",
       "</div>"
      ],
      "text/plain": [
       "    Transaction_Amount\n",
       "0                  100\n",
       "1                  150\n",
       "2                   50\n",
       "3                  100\n",
       "4                  130\n",
       "5                  120\n",
       "6                  100\n",
       "7                   85\n",
       "8                   70\n",
       "9                  150\n",
       "10                 150\n",
       "11                 120\n",
       "12                  50\n",
       "13                 100\n",
       "14                 100\n",
       "15                 140\n",
       "16                  90\n",
       "17                 150\n",
       "18                  50\n",
       "19                  90\n",
       "20                 120\n",
       "21                 100\n",
       "22                 110\n",
       "23                  75\n",
       "24                  65"
      ]
     },
     "execution_count": 3,
     "metadata": {},
     "output_type": "execute_result"
    }
   ],
   "source": [
    "df = pd.DataFrame({\"Transaction_Amount\":[100,150,50,100,130,120,100,85,70,150,150,120,50,100,100,140,90,150,50,90,120,100,110,75,65]\n",
    "                  })\n",
    "df"
   ]
  },
  {
   "cell_type": "markdown",
   "id": "669bd12e-9c84-4eb0-a93e-f5e1d6fddff8",
   "metadata": {},
   "source": [
    "### Analisis Measure of Central Tendency"
   ]
  },
  {
   "cell_type": "code",
   "execution_count": 9,
   "id": "99de24a5-d0e8-411c-8bc7-0a2effef224e",
   "metadata": {},
   "outputs": [
    {
     "data": {
      "text/plain": [
       "array([100, 150,  50, 100, 130, 120, 100,  85,  70, 150, 150, 120,  50,\n",
       "       100, 100, 140,  90, 150,  50,  90, 120, 100, 110,  75,  65])"
      ]
     },
     "execution_count": 9,
     "metadata": {},
     "output_type": "execute_result"
    }
   ],
   "source": [
    "Transaction_Amount = np.array([100,150,50,100,130,120,100,85,70,150,150,120,50,100,100,140,90,150,50,90,120,100,110,75,65])\n",
    "Transaction_Amount"
   ]
  },
  {
   "cell_type": "code",
   "execution_count": 11,
   "id": "490d6f6f-c540-4ac6-8c29-37e234c683ee",
   "metadata": {},
   "outputs": [
    {
     "name": "stdout",
     "output_type": "stream",
     "text": [
      "102\n",
      "100\n",
      "[100]\n"
     ]
    }
   ],
   "source": [
    "import numpy as np\n",
    "import statistics\n",
    "print(statistics.mean(Transaction_Amount))\n",
    "print(statistics.median(Transaction_Amount))\n",
    "print(statistics.multimode(Transaction_Amount))"
   ]
  },
  {
   "cell_type": "markdown",
   "id": "aac1a85b-04e4-431e-a1a3-038aac4126ed",
   "metadata": {},
   "source": [
    "### Analisis Measure of Variability"
   ]
  },
  {
   "cell_type": "code",
   "execution_count": 7,
   "id": "ed236cc7-ea54-435a-8121-a1a4d1139064",
   "metadata": {},
   "outputs": [
    {
     "data": {
      "text/plain": [
       "array([100, 150,  50, 100, 130, 120, 100,  85,  70, 150, 150, 120,  50,\n",
       "       100, 100, 140,  90, 150,  50,  90, 120, 100, 110,  75,  65])"
      ]
     },
     "execution_count": 7,
     "metadata": {},
     "output_type": "execute_result"
    }
   ],
   "source": [
    "Transaction_Amount = np.array([100,150,50,100,130,120,100,85,70,150,150,120,50,100,100,140,90,150,50,90,120,100,110,75,65])\n",
    "Transaction_Amount"
   ]
  },
  {
   "cell_type": "code",
   "execution_count": 9,
   "id": "cf21b5ce-d223-4da6-b8f6-2091f54ea48c",
   "metadata": {},
   "outputs": [
    {
     "name": "stdout",
     "output_type": "stream",
     "text": [
      "972.2399999999999\n",
      "31.18076330047101\n",
      "50\n",
      "150\n",
      "100\n",
      "85.0\n",
      "100.0\n",
      "120.0\n"
     ]
    }
   ],
   "source": [
    "import numpy as np\n",
    "print(np.var(Transaction_Amount))\n",
    "print(np.std(Transaction_Amount))\n",
    "print(np.min(Transaction_Amount))\n",
    "print(np.max(Transaction_Amount))\n",
    "print(np.max(Transaction_Amount) - np.min(Transaction_Amount))\n",
    "print(np.quantile(Transaction_Amount,0.25))\n",
    "print(np.quantile(Transaction_Amount,0.5))\n",
    "print(np.quantile(Transaction_Amount,0.75))"
   ]
  },
  {
   "cell_type": "markdown",
   "id": "2ea3d175-4b76-42b0-b2b7-9f9d84e2b8a1",
   "metadata": {},
   "source": [
    "### Menentukan Hipoteis\n",
    "\n",
    "Hipotesis0 : Penjualan rata-rata perusahaan X = 100\n",
    "\n",
    "Hipotesis1 : Penjualan rata-rata perusahaan X > 100"
   ]
  },
  {
   "cell_type": "markdown",
   "id": "745aaf47-8654-4b65-b032-07c82fe5d7a3",
   "metadata": {},
   "source": [
    "#### Melakukan T-test pada data rata-rata jumlah transaksi dengan alpha=5%"
   ]
  },
  {
   "cell_type": "code",
   "execution_count": 21,
   "id": "9686baaa-02fd-4664-9116-5d301830f9df",
   "metadata": {},
   "outputs": [],
   "source": [
    "import scipy.stats as stats"
   ]
  },
  {
   "cell_type": "code",
   "execution_count": 17,
   "id": "ad789afd-eefc-422b-b3b1-af2352e9b68a",
   "metadata": {},
   "outputs": [
    {
     "data": {
      "text/plain": [
       "25"
      ]
     },
     "execution_count": 17,
     "metadata": {},
     "output_type": "execute_result"
    }
   ],
   "source": [
    "len(Transaction_Amount)"
   ]
  },
  {
   "cell_type": "markdown",
   "id": "2f48c0ff-205d-4993-9e1f-53db59bcd80a",
   "metadata": {},
   "source": [
    "#### Menghitung t statistics dan P-value \n",
    "Menggunakan One Sample T-test"
   ]
  },
  {
   "cell_type": "code",
   "execution_count": 23,
   "id": "0a7a1af0-9a3f-4f2e-8a98-10be6b37bb35",
   "metadata": {},
   "outputs": [
    {
     "data": {
      "text/plain": [
       "TtestResult(statistic=0.4085001556802841, pvalue=0.6865284813438117, df=24)"
      ]
     },
     "execution_count": 23,
     "metadata": {},
     "output_type": "execute_result"
    }
   ],
   "source": [
    "stats.ttest_1samp(a=Transaction_Amount, popmean=100)"
   ]
  },
  {
   "cell_type": "markdown",
   "id": "17b8b331-27c8-4445-a48f-52444afc017a",
   "metadata": {},
   "source": [
    "Kesimpulan alpha dan P-value\n",
    "Nilai P-value lebih besar dari alpha (5%), artinya kita gagal menolak H0\n",
    "Kesimpulan : Training pada pekerja sales tidak efektif, rata-rata jumlah taransaksi masih 100"
   ]
  },
  {
   "cell_type": "markdown",
   "id": "92c8d3d3-f5aa-46b2-9d36-3ea13a040820",
   "metadata": {},
   "source": [
    "Kesimpulan t statistics dan critical region\n",
    "Menentukan critical region"
   ]
  },
  {
   "cell_type": "code",
   "execution_count": 27,
   "id": "bcf78d9b-b990-491b-b499-26bd069fb96c",
   "metadata": {},
   "outputs": [
    {
     "data": {
      "text/plain": [
       "1.7108820799094275"
      ]
     },
     "execution_count": 27,
     "metadata": {},
     "output_type": "execute_result"
    }
   ],
   "source": [
    "#H1 = larger (right side)\n",
    "stats.t.ppf(1-0.05,24)"
   ]
  },
  {
   "cell_type": "markdown",
   "id": "e46060c5-df75-48b5-a216-7af2671e7021",
   "metadata": {},
   "source": [
    "Critical region : t > 1.71\n",
    "Dengan hasil t statistics tidak jatuh di dalam critical region, maka kita gagal menolak H0\n",
    "Kesimpulan : Training pada pekerja sales tidak efektif, rata-rata jumlah taransaksi masih 100"
   ]
  },
  {
   "cell_type": "code",
   "execution_count": null,
   "id": "a9485193-66a4-460e-8d55-c559ef50da57",
   "metadata": {},
   "outputs": [],
   "source": []
  }
 ],
 "metadata": {
  "kernelspec": {
   "display_name": "Python 3 (ipykernel)",
   "language": "python",
   "name": "python3"
  },
  "language_info": {
   "codemirror_mode": {
    "name": "ipython",
    "version": 3
   },
   "file_extension": ".py",
   "mimetype": "text/x-python",
   "name": "python",
   "nbconvert_exporter": "python",
   "pygments_lexer": "ipython3",
   "version": "3.12.4"
  }
 },
 "nbformat": 4,
 "nbformat_minor": 5
}
